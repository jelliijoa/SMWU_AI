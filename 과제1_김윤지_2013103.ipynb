{
  "cells": [
    {
      "cell_type": "markdown",
      "metadata": {
        "id": "Y_a1Rz3nVyJh"
      },
      "source": [
        "# Assignment 1 : MLP Classification (Pytorch)\n"
      ]
    },
    {
      "cell_type": "code",
      "execution_count": 1,
      "metadata": {
        "colab": {
          "base_uri": "https://localhost:8080/"
        },
        "id": "MI4mr7ETdFSF",
        "outputId": "a3c4840d-9d11-4b0e-cb93-89756785bdc7"
      },
      "outputs": [
        {
          "name": "stdout",
          "output_type": "stream",
          "text": [
            "Name : 김윤지\n",
            "student ID : 2013103\n"
          ]
        }
      ],
      "source": [
        "name = input(\"Name : \")\n",
        "ID = input(\"student ID : \")"
      ]
    },
    {
      "cell_type": "markdown",
      "metadata": {
        "id": "vPLGGnO29MSa"
      },
      "source": [
        "## 실습\n",
        "___"
      ]
    },
    {
      "cell_type": "markdown",
      "metadata": {
        "id": "xDukFMhuUJvN"
      },
      "source": [
        "\n",
        "## Matrix 미분 정리\n",
        "$H = XW+b$</br>\n",
        "$L = f(H)$</br>\n",
        "$\\frac{\\partial L}{\\partial W} = \\frac{\\partial H}{\\partial W} \\times \\frac{\\partial L}{\\partial H} = \\frac{\\partial (XW+b)}{\\partial W} \\times\\frac{\\partial L}{\\partial H} = X *\\frac{\\partial L}{\\partial H}$</br>\n",
        "$\\frac{\\partial L}{\\partial X} = \\frac{\\partial L}{\\partial H} \\times \\frac{\\partial H}{\\partial X} = \\frac{\\partial L}{\\partial H} \\times \\frac{\\partial (XW+b)}{\\partial X} = \\frac{\\partial L}{\\partial H}*W$</br>\n",
        "$\\frac{\\partial L}{\\partial b}=1*\\frac{\\partial L}{\\partial H}$</br>"
      ]
    },
    {
      "cell_type": "markdown",
      "metadata": {
        "id": "i-fmKct3--PU"
      },
      "source": [
        "3 Layer Network를 완성하시오\n"
      ]
    },
    {
      "cell_type": "code",
      "execution_count": 2,
      "metadata": {
        "id": "Dec_jM7xqcmi"
      },
      "outputs": [],
      "source": [
        "import torch\n",
        "\n",
        "class ThreeLayerNet(torch.nn.Module):\n",
        "  def __init__(self, input_size, output_size, std=1e-4):\n",
        "    super(ThreeLayerNet, self).__init__()\n",
        "    torch.manual_seed(0)\n",
        "\n",
        "    hidden1_size = 128\n",
        "    hidden2_size = 64\n",
        "\n",
        "    self.relu = torch.nn.ReLU()\n",
        "    self.layer1 = torch.nn.Linear(input_size, hidden1_size)\n",
        "    self.layer2 = torch.nn.Linear(hidden1_size, hidden2_size)\n",
        "    self.layer3 = torch.nn.Linear(hidden2_size, output_size)\n",
        "\n",
        "  def forward(self, X, y = None):\n",
        "    feature1 = self.relu(self.layer1(X))\n",
        "    feature2 = self.relu(self.layer2(feature1))\n",
        "    feature3 = self.layer3(feature2)\n",
        "    output = torch.nn.functional.log_softmax(feature3, dim=1)\n",
        "\n",
        "    return output\n",
        "\n",
        "  def accuracy(self, X, y):\n",
        "      p = self.forward(X)\n",
        "      pred = torch.argmax(p,dim=1)\n",
        "      acc = torch.sum(pred==y).float()/X.shape[0]*100\n",
        "\n",
        "      return acc\n"
      ]
    },
    {
      "cell_type": "markdown",
      "metadata": {
        "id": "DZ-HRa3Y6BSH"
      },
      "source": [
        "#### Data"
      ]
    },
    {
      "cell_type": "code",
      "execution_count": 4,
      "metadata": {
        "id": "u3wb5RRRQokx"
      },
      "outputs": [],
      "source": [
        "from keras.datasets import mnist\n",
        "import numpy as np\n",
        "from matplotlib import pyplot as plt\n",
        "(x_train, y_train), (x_test, y_test) = mnist.load_data()"
      ]
    },
    {
      "cell_type": "code",
      "execution_count": 5,
      "metadata": {
        "colab": {
          "base_uri": "https://localhost:8080/"
        },
        "id": "rU41dla3E-lK",
        "outputId": "f33b0993-5759-4218-9551-46597e241c5b"
      },
      "outputs": [
        {
          "name": "stdout",
          "output_type": "stream",
          "text": [
            "shape of x_train : (60000, 28, 28)\n",
            "shape of y_train : (60000,)\n",
            "shape of x_test : (10000, 28, 28)\n",
            "shape of y_test : (10000,)\n"
          ]
        }
      ],
      "source": [
        "print(\"shape of x_train :\",x_train.shape)\n",
        "print(\"shape of y_train :\",y_train.shape)\n",
        "print(\"shape of x_test :\",x_test.shape)\n",
        "print(\"shape of y_test :\",y_test.shape)"
      ]
    },
    {
      "cell_type": "code",
      "execution_count": 6,
      "metadata": {
        "id": "XhwXBuLBCW5U"
      },
      "outputs": [],
      "source": [
        "def preprocessing_data(x_train, x_test, y_train, y_test):\n",
        "    x_train = x_train[:5000]\n",
        "    y_train = y_train[:5000]\n",
        "    x_test = x_test[:1000]\n",
        "    y_test = y_test[:1000]\n",
        "\n",
        "    #change dtype\n",
        "    x_train = torch.from_numpy(x_train).cuda()\n",
        "    x_test = torch.from_numpy(x_test).cuda()\n",
        "\n",
        "    x_train = torch.tensor(x_train,dtype=torch.float64, device=\"cuda:0\")\n",
        "    y_train = torch.tensor(y_train,device=\"cuda:0\")\n",
        "\n",
        "    x_test = torch.tensor(x_test,dtype=torch.float64,device=\"cuda:0\")\n",
        "    y_test = torch.tensor(y_test,device=\"cuda:0\")\n",
        "\n",
        "    #reshaping\n",
        "    x_train = x_train.reshape([x_train.shape[0],-1])\n",
        "    x_test = x_test.reshape(x_test.shape[0],-1)\n",
        "\n",
        "\n",
        "    #normalization\n",
        "    mean_value = torch.mean(x_train, dim=0)\n",
        "    x_train -= mean_value\n",
        "    x_train = x_train/255\n",
        "    x_test -= mean_value\n",
        "    x_test = x_test/255\n",
        "\n",
        "\n",
        "    return x_train, x_test, y_train, y_test"
      ]
    },
    {
      "cell_type": "code",
      "execution_count": 7,
      "metadata": {
        "colab": {
          "base_uri": "https://localhost:8080/"
        },
        "id": "X8JElsD8kjst",
        "outputId": "53825f3a-162a-416b-d469-96932db0ef25"
      },
      "outputs": [
        {
          "name": "stderr",
          "output_type": "stream",
          "text": [
            "<ipython-input-6-9c9f895cc5c5>:11: UserWarning: To copy construct from a tensor, it is recommended to use sourceTensor.clone().detach() or sourceTensor.clone().detach().requires_grad_(True), rather than torch.tensor(sourceTensor).\n",
            "  x_train = torch.tensor(x_train,dtype=torch.float64, device=\"cuda:0\")\n",
            "<ipython-input-6-9c9f895cc5c5>:14: UserWarning: To copy construct from a tensor, it is recommended to use sourceTensor.clone().detach() or sourceTensor.clone().detach().requires_grad_(True), rather than torch.tensor(sourceTensor).\n",
            "  x_test = torch.tensor(x_test,dtype=torch.float64,device=\"cuda:0\")\n"
          ]
        }
      ],
      "source": [
        "x_train, x_test, y_train, y_test = preprocessing_data(x_train, x_test, y_train, y_test)"
      ]
    },
    {
      "cell_type": "code",
      "execution_count": 8,
      "metadata": {
        "colab": {
          "base_uri": "https://localhost:8080/"
        },
        "id": "CbAgU3LWkm_5",
        "outputId": "13a3f9bf-a091-4f1b-8579-2892e7d1b497"
      },
      "outputs": [
        {
          "name": "stdout",
          "output_type": "stream",
          "text": [
            "shape of x_train : torch.Size([5000, 784])\n",
            "shape of y_train : torch.Size([5000])\n",
            "shape of x_test : torch.Size([1000, 784])\n",
            "shape of y_test : torch.Size([1000])\n"
          ]
        }
      ],
      "source": [
        "print(\"shape of x_train :\",x_train.shape)\n",
        "print(\"shape of y_train :\",y_train.shape)\n",
        "print(\"shape of x_test :\",x_test.shape)\n",
        "print(\"shape of y_test :\",y_test.shape)"
      ]
    },
    {
      "cell_type": "markdown",
      "metadata": {
        "id": "X-FhRaxEzIU2"
      },
      "source": [
        "####Training"
      ]
    },
    {
      "cell_type": "code",
      "execution_count": 9,
      "metadata": {
        "colab": {
          "base_uri": "https://localhost:8080/"
        },
        "id": "fxUvdSR94v5V",
        "outputId": "d03d82b9-e5b8-4c4b-ca0a-7f3b9e2f1c67"
      },
      "outputs": [
        {
          "name": "stdout",
          "output_type": "stream",
          "text": [
            "0 train accuracy : tensor(46.2000, device='cuda:0')\n",
            "0 train loss     : tensor(2.2540, device='cuda:0', grad_fn=<NllLossBackward0>)\n",
            "0 test accuracy : tensor(46.6000, device='cuda:0')\n",
            "0 test loss     : tensor(2.1504, device='cuda:0')\n",
            "============================================\n",
            "10 train accuracy : tensor(95.5200, device='cuda:0')\n",
            "10 train loss     : tensor(0.0243, device='cuda:0', grad_fn=<NllLossBackward0>)\n",
            "10 test accuracy : tensor(90.3000, device='cuda:0')\n",
            "10 test loss     : tensor(0.3055, device='cuda:0')\n",
            "============================================\n",
            "20 train accuracy : tensor(98.4600, device='cuda:0')\n",
            "20 train loss     : tensor(0.0054, device='cuda:0', grad_fn=<NllLossBackward0>)\n",
            "20 test accuracy : tensor(92.3000, device='cuda:0')\n",
            "20 test loss     : tensor(0.2510, device='cuda:0')\n",
            "============================================\n",
            "30 train accuracy : tensor(99.6000, device='cuda:0')\n",
            "30 train loss     : tensor(0.0020, device='cuda:0', grad_fn=<NllLossBackward0>)\n",
            "30 test accuracy : tensor(92.7000, device='cuda:0')\n",
            "30 test loss     : tensor(0.2424, device='cuda:0')\n",
            "============================================\n"
          ]
        }
      ],
      "source": [
        "N = x_train.shape[0]\n",
        "input_size = x_train.shape[1]\n",
        "\n",
        "learning_rate = 1e-03 #학습률\n",
        "output_size = 10 # output target 종류의 개수\n",
        "epoch_size = 30 # 학습 수\n",
        "\n",
        "Network = ThreeLayerNet(input_size=input_size, output_size=output_size)\n",
        "Network = Network.cuda()\n",
        "history = {'val_acc': [],'val_loss': []}\n",
        "\n",
        "optimizer = torch.optim.SGD(Network.parameters(), lr=learning_rate)\n",
        "criterion = torch.nn.CrossEntropyLoss()\n",
        "\n",
        "for i in range(epoch_size+1):\n",
        "    for j in range(N):\n",
        "\n",
        "        optimizer.zero_grad()\n",
        "\n",
        "        x_now = x_train[j].unsqueeze(0).type(torch.cuda.FloatTensor)\n",
        "        y_now = y_train[j].unsqueeze(0)\n",
        "\n",
        "        y_predict = Network(x_now)\n",
        "        loss = criterion(y_predict, y_now)\n",
        "        loss.backward()\n",
        "\n",
        "        optimizer.step()\n",
        "\n",
        "    val_acc = 0\n",
        "    val_loss = 0\n",
        "    for k in range(x_test.shape[0]):\n",
        "        val_acc += Network.accuracy(x_test[k].unsqueeze(0).type(torch.cuda.FloatTensor), y_test[k])\n",
        "        val_loss += criterion((Network.forward(x_test[k].unsqueeze(0).type(torch.cuda.FloatTensor))), y_test[k].unsqueeze(0)).detach()\n",
        "    history[\"val_acc\"].append((val_acc/x_test.shape[0]).cpu())\n",
        "    history[\"val_loss\"].append((val_loss/x_test.shape[0]).cpu())\n",
        "\n",
        "    if i % 10 == 0:\n",
        "        print(i, \"train accuracy :\", Network.accuracy(x_train.type(torch.cuda.FloatTensor), y_train))\n",
        "        print(i, \"train loss     :\", loss)\n",
        "        print(i, \"test accuracy :\", val_acc/x_test.shape[0])\n",
        "        print(i, \"test loss     :\", val_loss/x_test.shape[0])\n",
        "        print(\"============================================\")"
      ]
    },
    {
      "cell_type": "code",
      "execution_count": 10,
      "metadata": {
        "colab": {
          "base_uri": "https://localhost:8080/",
          "height": 467
        },
        "id": "LF8lR29HoIbu",
        "outputId": "c86b50f1-5192-4df1-970d-d46d405af5b3"
      },
      "outputs": [
        {
          "data": {
            "image/png": "[encoded data removed]",
            "text/plain": [
              "<Figure size 640x480 with 2 Axes>"
            ]
          },
          "metadata": {},
          "output_type": "display_data"
        },
        {
          "name": "stdout",
          "output_type": "stream",
          "text": [
            "나의 최고 test accuracy :  tensor(92.7000)\n"
          ]
        }
      ],
      "source": [
        "from matplotlib import pyplot as plt\n",
        "fig = plt.figure()\n",
        "ax_acc = fig.add_subplot(111)\n",
        "\n",
        "ax_acc.plot(range(epoch_size+1), history['val_acc'], label='정확도(%)', color='darkred')\n",
        "plt.xlabel('epochs')\n",
        "plt.ylabel('Validation Accuracy(%)')\n",
        "ax_acc.grid(linestyle='--', color='lavender')\n",
        "ax_loss = ax_acc.twinx()\n",
        "\n",
        "ax_loss.plot(range(epoch_size+1), history['val_loss'], label='오차', color='darkblue')\n",
        "plt.ylabel('Validation Error')\n",
        "ax_loss.yaxis.tick_right()\n",
        "ax_loss.grid(linestyle='--', color='lavender')\n",
        "\n",
        "# 그래프 표시\n",
        "plt.show()\n",
        "\n",
        "print(\"나의 최고 test accuracy : \",max(history['val_acc']))"
      ]
    }
  ],
  "metadata": {
    "accelerator": "GPU",
    "colab": {
      "gpuType": "T4",
      "provenance": []
    },
    "kernelspec": {
      "display_name": "Python 3",
      "name": "python3"
    },
    "language_info": {
      "name": "python"
    }
  },
  "nbformat": 4,
  "nbformat_minor": 0
}
